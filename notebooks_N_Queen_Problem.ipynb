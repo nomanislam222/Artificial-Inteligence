{
  "metadata": {
    "language_info": {
      "codemirror_mode": {
        "name": "python",
        "version": 3
      },
      "file_extension": ".py",
      "mimetype": "text/x-python",
      "name": "python",
      "nbconvert_exporter": "python",
      "pygments_lexer": "ipython3",
      "version": "3.8"
    },
    "kernelspec": {
      "name": "python",
      "display_name": "Python (Pyodide)",
      "language": "python"
    }
  },
  "nbformat_minor": 4,
  "nbformat": 4,
  "cells": [
    {
      "cell_type": "code",
      "source": "def empty_matrix(n):\n    matrix = [[0] * n for _ in range(n)]\n    return matrix\n\ndef add_queen(matrix, row, col):\n    matrix[row][col] = 1\n\ndef is_attacked(matrix, row, col):\n    n = len(matrix)\n\n    if 1 in matrix[row]:\n        return True\n\n    if any(matrix[i][col] == 1 for i in range(n)):\n        return True\n\n    for i in range(1, n):\n        if (\n            row + i < n and col + i < n and matrix[row + i][col + i] == 1\n            or row - i >= 0 and col - i >= 0 and matrix[row - i][col - i] == 1\n            or row + i < n and col - i >= 0 and matrix[row + i][col - i] == 1\n            or row - i >= 0 and col + i < n and matrix[row - i][col + i] == 1\n        ):\n            return True\n\n    return False\n\ndef given_matrix(matrix):\n    print(\"Queens are Placed on Chess Board Addressing as 1\")\n    for row in matrix:\n        print(row)\n\ndef attack_queen(matrix):\n    n = len(matrix)\n    attacking_queens = []\n\n    for row in range(n):\n        for col in range(n):\n            if matrix[row][col] == 1 and is_attacked(matrix, row, col):\n                attacking_queens.append((row, col))\n\n    if attacking_queens:\n        print(\"Queens are attacking at the following positions:\")\n        for queen in attacking_queens:\n            print(f\"({queen[0]}, {queen[1]})\")\n    else:\n        print(\"No queens are attacking.\")\n\nn = 4\nchessboard = empty_matrix(n)\n\nadd_queen(chessboard, 0, 3)\nadd_queen(chessboard, 1, 2)\nadd_queen(chessboard, 2, 2)\nadd_queen(chessboard, 3, 2)\n\ngiven_matrix(chessboard)\nattack_queen(chessboard)\n",
      "metadata": {
        "trusted": true
      },
      "execution_count": 11,
      "outputs": [
        {
          "name": "stdout",
          "text": "Queens are Placed on Chess Board Addressing as 1\n[0, 0, 0, 1]\n[0, 0, 1, 0]\n[0, 0, 1, 0]\n[0, 0, 1, 0]\nQueens are attacking at the following positions:\n(0, 3)\n(1, 2)\n(2, 2)\n(3, 2)\n",
          "output_type": "stream"
        }
      ]
    },
    {
      "cell_type": "code",
      "source": "",
      "metadata": {},
      "execution_count": null,
      "outputs": []
    }
  ]
}